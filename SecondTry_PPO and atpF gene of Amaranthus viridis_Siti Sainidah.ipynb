{
 "cells": [
  {
   "cell_type": "code",
   "execution_count": 5,
   "id": "9461dcc6-8615-4226-928b-79548ab689e8",
   "metadata": {},
   "outputs": [
    {
     "name": "stdout",
     "output_type": "stream",
     "text": [
      "{'Count': '1', 'RetMax': '1', 'RetStart': '0', 'IdList': ['1770688530'], 'TranslationSet': [{'From': 'Amaranthus viridis', 'To': '\"Amaranthus viridis\"[Organism] OR Amaranthus viridis[All Fields]'}], 'TranslationStack': [{'Term': '\"Amaranthus viridis\"[Organism]', 'Field': 'Organism', 'Count': '481', 'Explode': 'Y'}, {'Term': 'Amaranthus viridis[All Fields]', 'Field': 'All Fields', 'Count': '577', 'Explode': 'N'}, 'OR', 'GROUP', {'Term': 'PPO[All Fields]', 'Field': 'All Fields', 'Count': '6515', 'Explode': 'N'}, 'AND', 'GROUP'], 'QueryTranslation': '(\"Amaranthus viridis\"[Organism] OR Amaranthus viridis[All Fields]) AND PPO[All Fields]'}\n"
     ]
    }
   ],
   "source": [
    "from Bio import Entrez\n",
    "Entrez.email = \"localuser@localhost.localdomain\"\n",
    "\n",
    "\n",
    "handle = Entrez.esearch(db=\"nuccore\", term=\"Amaranthus viridis PPO\")\n",
    "record = Entrez.read(handle)\n",
    "print(record)\n",
    "handle.close()"
   ]
  },
  {
   "cell_type": "code",
   "execution_count": 7,
   "id": "a981e4dc-ab39-4977-bae7-6c87a948c614",
   "metadata": {
    "tags": []
   },
   "outputs": [
    {
     "name": "stdout",
     "output_type": "stream",
     "text": [
      "LOCUS       MK965662                 468 bp    DNA     linear   PLN 03-NOV-2019\n",
      "DEFINITION  Amaranthus viridis polyphenol oxidase (PPO) gene, partial cds.\n",
      "ACCESSION   MK965662\n",
      "VERSION     MK965662.1\n",
      "KEYWORDS    .\n",
      "SOURCE      Amaranthus viridis\n",
      "  ORGANISM  Amaranthus viridis\n",
      "            Eukaryota; Viridiplantae; Streptophyta; Embryophyta; Tracheophyta;\n",
      "            Spermatophyta; Magnoliopsida; eudicotyledons; Gunneridae;\n",
      "            Pentapetalae; Caryophyllales; Amaranthaceae; Amaranthus.\n",
      "REFERENCE   1  (bases 1 to 468)\n",
      "  AUTHORS   Singh,H.B., Kumari,M. and Khan,M.I.\n",
      "  TITLE     Isolation and characterization of betalain biosynthetic genes in\n",
      "            Amaranthus species\n",
      "  JOURNAL   Unpublished\n",
      "REFERENCE   2  (bases 1 to 468)\n",
      "  AUTHORS   Singh,H.B., Kumari,M. and Khan,M.I.\n",
      "  TITLE     Direct Submission\n",
      "  JOURNAL   Submitted (20-MAY-2019) Biotechnology, Gauhati University,\n",
      "            Jalukbari, Guwahati, Assam 781014, India\n",
      "COMMENT     ##Assembly-Data-START##\n",
      "            Sequencing Technology :: Sanger dideoxy sequencing\n",
      "            ##Assembly-Data-END##\n",
      "FEATURES             Location/Qualifiers\n",
      "     source          1..468\n",
      "                     /organism=\"Amaranthus viridis\"\n",
      "                     /mol_type=\"genomic DNA\"\n",
      "                     /db_xref=\"taxon:56196\"\n",
      "     gene            <1..>468\n",
      "                     /gene=\"PPO\"\n",
      "                     /note=\"AvPPO\"\n",
      "     mRNA            <1..>468\n",
      "                     /gene=\"PPO\"\n",
      "                     /product=\"polyphenol oxidase\"\n",
      "     CDS             <1..>468\n",
      "                     /gene=\"PPO\"\n",
      "                     /codon_start=1\n",
      "                     /product=\"polyphenol oxidase\"\n",
      "                     /protein_id=\"QFU74070.1\"\n",
      "                     /translation=\"QVHGSWLFFPFHRAYLYFYEKILGKLIDDPTFAIPYWNWDHPDG\n",
      "                     MTLPSLYNNQNSPFFDGLRNPTHLPPMVTDLSYDGPGLDNNLPKDDQIALNLSVMYRQ\n",
      "                     MVSNAKKPSLFMGNPYRAGDKPNPGAGSLENQPHATVHNWTGNPSNPMWEDMGN\"\n",
      "ORIGIN      \n",
      "        1 caggtccatg gatcttggtt attttttcca tttcacaggg cttaccttta tttctatgaa\n",
      "       61 aaaatcttag gaaaattgat tgatgacccc acatttgcta ttccatattg gaattgggat\n",
      "      121 catccagatg ggatgacttt gccttctctt tataataacc aaaattctcc tttctttgat\n",
      "      181 gggttacgaa acccgaccca tcttcctcca atggtcacgg atctcagcta tgatggaccg\n",
      "      241 ggtctagata acaacttacc gaaagacgat caaatcgctc taaatctttc cgtgatgtat\n",
      "      301 cgtcaaatgg tttccaatgc aaaaaaaccg agtttgttta tgggaaatcc atatcgagct\n",
      "      361 ggtgataaac caaatccggg tgctggatcc ttagagaacc aaccacatgc cacggtccat\n",
      "      421 aactggacgg gtaacccaag taatcccatg tgggaggata tgggtaac\n",
      "//\n",
      "\n",
      "\n"
     ]
    }
   ],
   "source": [
    "efetch_handle = Entrez.efetch(db=\"nuccore\", id=\"1770688530\", rettype=\"gb\", retmode=\"text\")\n",
    "gbrecord = efetch_handle.read()\n",
    "print(gbrecord)"
   ]
  },
  {
   "cell_type": "code",
   "execution_count": 8,
   "id": "84a50a5c-a415-47d2-8f7e-4ca164fc1da4",
   "metadata": {},
   "outputs": [
    {
     "name": "stdout",
     "output_type": "stream",
     "text": [
      ">MK965662.1 Amaranthus viridis polyphenol oxidase (PPO) gene, partial cds\n",
      "CAGGTCCATGGATCTTGGTTATTTTTTCCATTTCACAGGGCTTACCTTTATTTCTATGAAAAAATCTTAG\n",
      "GAAAATTGATTGATGACCCCACATTTGCTATTCCATATTGGAATTGGGATCATCCAGATGGGATGACTTT\n",
      "GCCTTCTCTTTATAATAACCAAAATTCTCCTTTCTTTGATGGGTTACGAAACCCGACCCATCTTCCTCCA\n",
      "ATGGTCACGGATCTCAGCTATGATGGACCGGGTCTAGATAACAACTTACCGAAAGACGATCAAATCGCTC\n",
      "TAAATCTTTCCGTGATGTATCGTCAAATGGTTTCCAATGCAAAAAAACCGAGTTTGTTTATGGGAAATCC\n",
      "ATATCGAGCTGGTGATAAACCAAATCCGGGTGCTGGATCCTTAGAGAACCAACCACATGCCACGGTCCAT\n",
      "AACTGGACGGGTAACCCAAGTAATCCCATGTGGGAGGATATGGGTAAC\n",
      "\n",
      "\n"
     ]
    }
   ],
   "source": [
    "efetch_handle = Entrez.efetch(db=\"nuccore\", id=\"1770688530\", rettype=\"fasta\", retmode=\"text\")\n",
    "gbrecord = efetch_handle.read()\n",
    "print(gbrecord)"
   ]
  },
  {
   "cell_type": "code",
   "execution_count": 9,
   "id": "536d26f8-d9bb-4bc8-aa0d-e84d401878e0",
   "metadata": {},
   "outputs": [
    {
     "name": "stdout",
     "output_type": "stream",
     "text": [
      "FASTA Download\n"
     ]
    }
   ],
   "source": [
    "import os\n",
    "\n",
    "#creating EFetch handle\n",
    "filename = \"PPO Amaranthus viridis.gbk\" #up to you, but Genbank files always use *.gb or *.gbk \n",
    "\n",
    "#creating EFetch handle\n",
    "if not os.path.isfile(filename):\n",
    "    # Downloading file...\n",
    "    efetch_handle = Entrez.efetch(db=\"nuccore\", id=\"1770688530\", rettype=\"fasta\", retmode=\"text\")\n",
    "    output_file_handle = open(filename, \"w\")\n",
    "    output_file_handle.write(efetch_handle.read())\n",
    "    output_file_handle.close()\n",
    "    efetch_handle.close()\n",
    "    print(\"FASTA Download\")\n"
   ]
  },
  {
   "cell_type": "code",
   "execution_count": 18,
   "id": "7e6418ce-2d52-4ca6-9063-3178992aa6e4",
   "metadata": {},
   "outputs": [],
   "source": [
    "import os\n",
    "\n",
    "filename = \"PPO Amaranthus viridis.gbk\" \n",
    "\n",
    "if not os.path.isfile(filename):\n",
    "    # Downloading file...\n",
    "    efetch_handle = Entrez.efetch(db=\"nuccore\", id=\"1770688530\", rettype=\"gb\", retmode=\"text\")\n",
    "    output_file_handle = open(filename, \"w\")\n",
    "    output_file_handle.write(efetch_handle.read())\n",
    "    output_file_handle.close()\n",
    "    efetch_handle.close()\n",
    "    print(\"GB Download\")"
   ]
  },
  {
   "cell_type": "code",
   "execution_count": 10,
   "id": "ef434fb7-8e18-4ec6-ad23-b93718758caf",
   "metadata": {},
   "outputs": [
    {
     "name": "stdout",
     "output_type": "stream",
     "text": [
      "Amaranthus viridis atpF.gbk Saved\n"
     ]
    }
   ],
   "source": [
    "#Code 6\n",
    "import os # import os module for OS utilities\n",
    "from Bio import Entrez\n",
    "Entrez.email = \"localuser@localhost.localdomain\" #Mandatory! Can be replaced with your personal email.\n",
    "\n",
    "#creating EFetch handle\n",
    "filename = \"Amaranthus viridis atpF.gbk\" #up to you, but Genbank files always use *.gb or *.gbk \n",
    "\n",
    "#creating EFetch handle\n",
    "if not os.path.isfile(filename):\n",
    "    # Downloading file...\n",
    "    efetch_handle = Entrez.efetch(db=\"nuccore\", id=\"2044964809\", rettype=\"gb\", retmode=\"text\")\n",
    "    output_file_handle = open(filename, \"w\")\n",
    "    output_file_handle.write(efetch_handle.read())\n",
    "    output_file_handle.close()\n",
    "    efetch_handle.close()\n",
    "    print((str(filename)) + \" Saved\")\n",
    "else:\n",
    "    print((str(filename)) + \" is existing. File cannot be saved!\")\n",
    "\n"
   ]
  },
  {
   "cell_type": "code",
   "execution_count": 11,
   "id": "19abb097-e615-407a-ad17-253521651835",
   "metadata": {},
   "outputs": [],
   "source": [
    "import os # import os module for OS utilities\n",
    "from Bio import Entrez\n",
    "Entrez.email = \"localuser@localhost.localdomain\" #Mandatory! Can be replaced with your personal email.\n",
    "\n",
    "#creating EFetch handle\n",
    "filename = \"Amaranthus viridis atpF.fasta\" #up to you, but FASTA files always use *.fasta or *.fas \n",
    "\n",
    "#creating EFetch handle\n",
    "if not os.path.isfile(filename):\n",
    "    # Downloading file...\n",
    "    efetch_handle = Entrez.efetch(db=\"nuccore\", id=\"2044964809\", rettype=\"fasta\", retmode=\"text\")\n",
    "    output_file_handle = open(filename, \"w\")\n",
    "    output_file_handle.write(efetch_handle.read())\n",
    "    output_file_handle.close()\n",
    "    efetch_handle.close()\n"
   ]
  },
  {
   "cell_type": "code",
   "execution_count": 15,
   "id": "890de957-12cc-45c8-abc6-e56c7b3b6a4b",
   "metadata": {},
   "outputs": [
    {
     "name": "stdout",
     "output_type": "stream",
     "text": [
      ">atpF|Amaranthus viridis voucher 20127 chloroplast, complete genome\n",
      "ATGAAAAATGTAACCGATTCTTTCGTTTTCTTGGGTCACTGGCCATCCGCCGGGAGTTTCGGGTTTAATACCGATATTTTAGCAACAAATCTAATAAATCTAAGTGTAGTTCTTGGTGTATTGATTTTTTTTGGAAAGGGAGTGTTAAATGATTTATTAGATAATCGAAAACAGAGAATCTTGAGTACTATTCGAAATTCAGAAGAACTACGCGGAAAAGCCATTGAACAGCTTGAAAAAGCCAGGGCTCGCTTAAAAAAAGTCGAAATGGAAGCGGATCAGTTTCGAGTGAATGGATATTCTGAAATAGAACGCGAAAAAATAAATTTGATTAATTCAACTTATAAAACTTTAGAACAATTAGAAAATTACAAAAATGAGACCATTCAGTTTGAACAACAAAAAGCGATTAATCAAGTCCGACAACGGGTTTTCCAACAAGCCTTACAAGGAGCTCTAGGAACTCTGAATAGTTGTTTAAACAACGAATTACATTTACGGACCATCAACGCTAATATTGGCATGTTTGGTGCGATGAACGAAATAACCGATTAG\n"
     ]
    }
   ],
   "source": [
    "from Bio import SeqIO\n",
    "\n",
    "GoI = \"atpF\" #change \" rbcL\" here with your GoI\n",
    "\n",
    "for genome in SeqIO.parse(\"Amaranthus viridis atpF.gbk\",\"genbank\"):\n",
    "    for gene in genome.features:\n",
    "        if gene.type != \"CDS\":\n",
    "            continue\n",
    "        if \"gene\" not in gene.qualifiers:\n",
    "            continue\n",
    "        if GoI not in gene.qualifiers[\"gene\"][0]: \n",
    "            continue\n",
    "        gene_seq = gene.extract(genome.seq)\n",
    "\n",
    "GoI_fasta = \">%s|%s\\n%s\" % (GoI, genome.description, gene_seq)\n",
    "print(GoI_fasta)\n"
   ]
  },
  {
   "cell_type": "code",
   "execution_count": 16,
   "id": "ec93ada2-8d71-484c-8687-cd4c4c469469",
   "metadata": {},
   "outputs": [
    {
     "name": "stdout",
     "output_type": "stream",
     "text": [
      ">atpF|Amaranthus viridis voucher 20127 chloroplast, complete genome\n",
      "ATGAAAAATGTAACCGATTCTTTCGTTTTCTTGGGTCACTGGCCATCCGCCGGGAGTTTCGGGTTTAATACCGATATTTTAGCAACAAATCTAATAAATCTAAGTGTAGTTCTTGGTGTATTGATTTTTTTTGGAAAGGGAGTGTTAAATGATTTATTAGATAATCGAAAACAGAGAATCTTGAGTACTATTCGAAATTCAGAAGAACTACGCGGAAAAGCCATTGAACAGCTTGAAAAAGCCAGGGCTCGCTTAAAAAAAGTCGAAATGGAAGCGGATCAGTTTCGAGTGAATGGATATTCTGAAATAGAACGCGAAAAAATAAATTTGATTAATTCAACTTATAAAACTTTAGAACAATTAGAAAATTACAAAAATGAGACCATTCAGTTTGAACAACAAAAAGCGATTAATCAAGTCCGACAACGGGTTTTCCAACAAGCCTTACAAGGAGCTCTAGGAACTCTGAATAGTTGTTTAAACAACGAATTACATTTACGGACCATCAACGCTAATATTGGCATGTTTGGTGCGATGAACGAAATAACCGATTAG\n"
     ]
    }
   ],
   "source": [
    "from Bio import SeqIO\n",
    "\n",
    "GoI = \"atpF\" #change \" rbcL\" here with your GoI\n",
    "\n",
    "for genome in SeqIO.parse(\"Amaranthus viridis atpF.gbk\",\"genbank\"):\n",
    "    for gene in genome.features:\n",
    "        if gene.type != \"CDS\":\n",
    "            continue\n",
    "        if \"gene\" not in gene.qualifiers:\n",
    "            continue\n",
    "        if GoI not in gene.qualifiers[\"gene\"][0]: \n",
    "            continue\n",
    "        gene_seq = gene.extract(genome.seq)\n",
    "\n",
    "GoI_fasta = \">%s|%s\\n%s\" % (GoI, genome.description, gene_seq)\n",
    "print(GoI_fasta)\n",
    "with open(\"GoI_fasta.fasta\",\"w\") as f:\n",
    "    f.write(GoI_fasta)"
   ]
  },
  {
   "cell_type": "code",
   "execution_count": null,
   "id": "76f6185d-d762-4740-8199-0d06a023b72e",
   "metadata": {},
   "outputs": [],
   "source": []
  }
 ],
 "metadata": {
  "kernelspec": {
   "display_name": "Python 3 (ipykernel)",
   "language": "python",
   "name": "python3"
  },
  "language_info": {
   "codemirror_mode": {
    "name": "ipython",
    "version": 3
   },
   "file_extension": ".py",
   "mimetype": "text/x-python",
   "name": "python",
   "nbconvert_exporter": "python",
   "pygments_lexer": "ipython3",
   "version": "3.7.11"
  }
 },
 "nbformat": 4,
 "nbformat_minor": 5
}
